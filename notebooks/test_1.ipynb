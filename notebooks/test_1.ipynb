{
 "cells": [
  {
   "cell_type": "code",
   "execution_count": 1,
   "metadata": {},
   "outputs": [],
   "source": [
    "import copy"
   ]
  },
  {
   "cell_type": "code",
   "execution_count": 39,
   "metadata": {},
   "outputs": [],
   "source": [
    "pai_kinds = [f\"{num}{kind}\"for kind in \"mps\" for num in range(1,10)] + \\\n",
    "[f\"{num}z\"for num in range(1,8)] + \\\n",
    "[f\"{num}g\"for num in range(1,10)] + [\"mt\"]"
   ]
  },
  {
   "cell_type": "code",
   "execution_count": 71,
   "metadata": {},
   "outputs": [],
   "source": [
    "class tehai:\n",
    "    def __init__(self, pai_list):\n",
    "        self.paishi = [0] * 44\n",
    "        self.n_pai = 0\n",
    "        self.add(pai_list)\n",
    "\n",
    "    def convert(self, pai_list):\n",
    "        ans = []\n",
    "        for pai in pai_list:\n",
    "            assert len(pai) == 2\n",
    "            pai_num = int(pai[0]) if pai != \"mt\" else -1\n",
    "            if pai[1] == \"m\":\n",
    "                ans.append(pai_num - 1)\n",
    "            elif pai[1] == \"p\":\n",
    "                ans.append(pai_num + 9 - 1)\n",
    "            elif pai[1] == \"s\":\n",
    "                ans.append(pai_num + 18 - 1)\n",
    "            elif pai[1] == \"z\":\n",
    "                ans.append(pai_num + 27 - 1)\n",
    "            elif pai[1] == \"g\":\n",
    "                ans.append(pai_num + 34 - 1)\n",
    "            elif pai == \"mt\":\n",
    "                ans.append(43)\n",
    "            else:\n",
    "                raise ValueError\n",
    "        return ans\n",
    "    \n",
    "    def add(self, pai_list):\n",
    "        for pai in self.convert(pai_list):\n",
    "            self.paishi[pai] += 1\n",
    "            self.n_pai += 1\n",
    "            \n",
    "    def check(self, pai_list):\n",
    "        tmp_paishi = self.paishi[:]\n",
    "        for pai in self.convert(pai_list):\n",
    "            tmp_paishi[pai] -= 1\n",
    "        for pai in tmp_paishi:\n",
    "            if pai < 0:\n",
    "                return False\n",
    "        return True\n",
    "    \n",
    "    def elim(self, pai_list):\n",
    "        tmp_paishi = self.paishi[:]\n",
    "        \n",
    "        ans_list = []\n",
    "        \n",
    "        for pai in self.convert(pai_list):\n",
    "            pai_num_mps = 0 if pai > 26 else pai%9+1\n",
    "            if tmp_paishi[pai] > 0:\n",
    "                tmp_paishi[pai] -= 1\n",
    "                ans_list.append(pai_kinds[pai])\n",
    "            elif pai_num_mps > 0 and tmp_paishi[pai_num_mps + 34 - 1] > 0:\n",
    "                tmp_paishi[pai_num_mps + 34 - 1] -= 1\n",
    "                ans_list.append(pai_kinds[pai_num_mps + 34 - 1])\n",
    "            elif tmp_paishi[43] > 0:\n",
    "                tmp_paishi[43] -= 1\n",
    "                ans_list.append(pai_kinds[43])\n",
    "                \n",
    "            else:\n",
    "                return []\n",
    "\n",
    "        self.paishi = tmp_paishi[:]\n",
    "        self.n_pai -= len(pai_list)\n",
    "        return ans_list\n",
    "    \n",
    "    def sample(self):\n",
    "        for pai, n_pai in enumerate(self.paishi):\n",
    "            if n_pai > 0:\n",
    "                return pai_kinds[pai]\n",
    "        return -1\n",
    "        "
   ]
  },
  {
   "cell_type": "code",
   "execution_count": 72,
   "metadata": {},
   "outputs": [],
   "source": [
    "def tehai_kaitou(tehai_zip):\n",
    "    ans = []\n",
    "    tmp = []\n",
    "    ind = 0\n",
    "#     cnt = 0\n",
    "    while ind < len(tehai_zip):\n",
    "        if tehai_zip[ind] in \"123456789\":\n",
    "            tmp.append(tehai_zip[ind])\n",
    "        else:\n",
    "            for num in tmp:\n",
    "                ans.append(num + tehai_zip[ind])\n",
    "            tmp = []\n",
    "        ind += 1\n",
    "#         print(tmp)\n",
    "#         cnt += 1\n",
    "#         if cnt == 100:\n",
    "#             break\n",
    "    for i in range(len(ans)):\n",
    "        if ans[i] == \"1t\":\n",
    "            ans[i] = \"mt\"\n",
    "    return ans\n",
    "            "
   ]
  },
  {
   "cell_type": "code",
   "execution_count": 182,
   "metadata": {},
   "outputs": [],
   "source": [
    "# tehai_zip = \"123m56p456s111z14g\"\n",
    "# tehai_zip = \"123456m123p411g1t\"\n",
    "tehai_zip = \"1123456m11g78s111z\""
   ]
  },
  {
   "cell_type": "code",
   "execution_count": 183,
   "metadata": {},
   "outputs": [
    {
     "data": {
      "text/plain": [
       "['1m',\n",
       " '1m',\n",
       " '2m',\n",
       " '3m',\n",
       " '4m',\n",
       " '5m',\n",
       " '6m',\n",
       " '1g',\n",
       " '1g',\n",
       " '7s',\n",
       " '8s',\n",
       " '1z',\n",
       " '1z',\n",
       " '1z']"
      ]
     },
     "execution_count": 183,
     "metadata": {},
     "output_type": "execute_result"
    }
   ],
   "source": [
    "tehai_kaitou(tehai_zip)"
   ]
  },
  {
   "cell_type": "code",
   "execution_count": 184,
   "metadata": {},
   "outputs": [],
   "source": [
    "t = tehai(tehai_kaitou(tehai_zip))"
   ]
  },
  {
   "cell_type": "code",
   "execution_count": 185,
   "metadata": {},
   "outputs": [
    {
     "data": {
      "text/plain": [
       "14"
      ]
     },
     "execution_count": 185,
     "metadata": {},
     "output_type": "execute_result"
    }
   ],
   "source": [
    "t.n_pai"
   ]
  },
  {
   "cell_type": "code",
   "execution_count": 186,
   "metadata": {},
   "outputs": [],
   "source": [
    "def all_pattern(pai):\n",
    "    pattern = [[pai] * 2, [pai] * 3]\n",
    "    if pai[1] == \"z\" or pai  == \"mt\":\n",
    "        return pattern\n",
    "    num = int(pai[0])\n",
    "    k = pai[1]\n",
    "    for shift in range(-2, 1):\n",
    "        if 1 <= num + shift <= 7:\n",
    "            pattern.append([f\"{num + shift}{k}\", f\"{num + shift + 1}{k}\", f\"{num + shift + 2}{k}\"])\n",
    "    return pattern\n",
    "        "
   ]
  },
  {
   "cell_type": "code",
   "execution_count": 187,
   "metadata": {},
   "outputs": [],
   "source": [
    "\n",
    "\n",
    "def valid(tehai, n_mentsu, n_janto):\n",
    "#     print(tehai.paishi[:5],  n_mentsu, n_janto, tehai.n_pai)\n",
    "    \n",
    "    if n_mentsu == 0 and n_janto == 0:\n",
    "#         print(\"tehai.n_pai\",tehai.n_pai)\n",
    "        if tehai.n_pai == 0:\n",
    "            return True, []\n",
    "        return False, []\n",
    "    if n_mentsu < 0 or n_janto < 0:\n",
    "        return False, []\n",
    "    ans = False\n",
    "    ans_list = []\n",
    "#     print(tehai.paishi[0])\n",
    "    for pat in all_pattern(tehai.sample()):\n",
    "#         print(pat)\n",
    "        pat_elim = tehai.elim(pat)\n",
    "        if pat_elim:\n",
    "            if len(pat_elim) == 2:\n",
    "                ans1, list1 = valid(copy.copy(tehai), n_mentsu, n_janto-1)\n",
    "            else:\n",
    "                ans1, list1 = valid(copy.copy(tehai), n_mentsu-1, n_janto)\n",
    "            if ans1:\n",
    "                ans = True\n",
    "                if len(list1) > 0:\n",
    "                    for item in list1:\n",
    "                        ans_list.append(item[:] + [pat_elim[:]])\n",
    "                else:\n",
    "                    ans_list.append([pat_elim[:]])\n",
    "            tehai.add(pat_elim)\n",
    "#     print(ans_list)\n",
    "    return ans, ans_list\n",
    "        "
   ]
  },
  {
   "cell_type": "code",
   "execution_count": 188,
   "metadata": {},
   "outputs": [
    {
     "name": "stdout",
     "output_type": "stream",
     "text": [
      "1m set()\n",
      "2m set()\n",
      "3m set()\n",
      "4m set()\n",
      "5m set()\n",
      "6m set()\n",
      "7m set()\n",
      "8m set()\n",
      "9m set()\n",
      "1p set()\n",
      "2p set()\n",
      "3p set()\n",
      "4p set()\n",
      "5p set()\n",
      "6p set()\n",
      "7p set()\n",
      "8p set()\n",
      "9p set()\n",
      "1s set()\n",
      "2s set()\n",
      "3s set()\n",
      "4s set()\n",
      "5s set()\n",
      "6s {(('1m', '1g', '1g'), ('1m', '2m', '3m'), ('1z', '1z', '1z'), ('4m', '5m', '6m'), ('6s', '7s', '8s')), (('1g', '2m', '3m'), ('1m', '1m', '1g'), ('1z', '1z', '1z'), ('4m', '5m', '6m'), ('6s', '7s', '8s'))}\n",
      "7s set()\n",
      "8s set()\n",
      "9s {(('1m', '1g', '1g'), ('1m', '2m', '3m'), ('1z', '1z', '1z'), ('4m', '5m', '6m'), ('7s', '8s', '9s')), (('1g', '2m', '3m'), ('1m', '1m', '1g'), ('1z', '1z', '1z'), ('4m', '5m', '6m'), ('7s', '8s', '9s'))}\n",
      "1z set()\n",
      "2z set()\n",
      "3z set()\n",
      "4z set()\n",
      "5z set()\n",
      "6z set()\n",
      "7z set()\n",
      "1g set()\n",
      "2g set()\n",
      "3g set()\n",
      "4g set()\n",
      "5g set()\n",
      "6g {(('1g', '2m', '3m'), ('1m', '1m', '1g'), ('1z', '1z', '1z'), ('4m', '5m', '6m'), ('6g', '7s', '8s')), (('1m', '1g', '1g'), ('1m', '2m', '3m'), ('1z', '1z', '1z'), ('4m', '5m', '6m'), ('6g', '7s', '8s'))}\n",
      "7g set()\n",
      "8g set()\n",
      "9g {(('1m', '1g', '1g'), ('1m', '2m', '3m'), ('1z', '1z', '1z'), ('4m', '5m', '6m'), ('7s', '8s', '9g')), (('1g', '2m', '3m'), ('1m', '1m', '1g'), ('1z', '1z', '1z'), ('4m', '5m', '6m'), ('7s', '8s', '9g'))}\n",
      "mt {(('1m', '1g', '1g'), ('1m', '2m', '3m'), ('1z', '1z', '1z'), ('4m', '5m', '6m'), ('mt', '7s', '8s')), (('1g', '2m', '3m'), ('1m', '1m', '1g'), ('1z', '1z', '1z'), ('4m', '5m', '6m'), ('mt', '7s', '8s')), (('1g', '2m', '3m'), ('1m', '1m', '1g'), ('1z', '1z', '1z'), ('4m', '5m', '6m'), ('7s', '8s', 'mt')), (('1m', '1g', '1g'), ('1m', '2m', '3m'), ('1z', '1z', '1z'), ('4m', '5m', '6m'), ('7s', '8s', 'mt'))}\n"
     ]
    }
   ],
   "source": [
    "for agaripai in pai_kinds:\n",
    "    t.add([agaripai])\n",
    "    ans,ans_list = valid(t,t.n_pai//3,int(t.n_pai%3==2))\n",
    "    for i in range(len(ans_list)):\n",
    "        ans_list[i].sort()\n",
    "        ans_list[i] = tuple([tuple(j) for j in ans_list[i]])\n",
    "        \n",
    "    ans_list = set(ans_list)\n",
    "    print(agaripai, ans_list)\n",
    "    t.elim([agaripai])\n",
    "    "
   ]
  },
  {
   "cell_type": "code",
   "execution_count": null,
   "metadata": {},
   "outputs": [],
   "source": []
  },
  {
   "cell_type": "code",
   "execution_count": null,
   "metadata": {},
   "outputs": [],
   "source": []
  }
 ],
 "metadata": {
  "kernelspec": {
   "display_name": "Python 3",
   "language": "python",
   "name": "python3"
  },
  "language_info": {
   "codemirror_mode": {
    "name": "ipython",
    "version": 3
   },
   "file_extension": ".py",
   "mimetype": "text/x-python",
   "name": "python",
   "nbconvert_exporter": "python",
   "pygments_lexer": "ipython3",
   "version": "3.7.6"
  }
 },
 "nbformat": 4,
 "nbformat_minor": 4
}
