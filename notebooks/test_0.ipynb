{
 "cells": [
  {
   "cell_type": "code",
   "execution_count": 265,
   "metadata": {},
   "outputs": [],
   "source": [
    "import copy"
   ]
  },
  {
   "cell_type": "code",
   "execution_count": 112,
   "metadata": {},
   "outputs": [],
   "source": [
    "class tehai:\n",
    "    def __init__(self, pai_list):\n",
    "        self.paishi = [0] * 34\n",
    "        self.n_pai = 0\n",
    "        self.add(pai_list)\n",
    "\n",
    "    def convert(self, pai_list):\n",
    "        ans = []\n",
    "        for pai in pai_list:\n",
    "            assert len(pai) == 2\n",
    "            pai_num = int(pai[0])\n",
    "            if pai[1] == \"m\":\n",
    "                ans.append(pai_num - 1)\n",
    "            elif pai[1] == \"p\":\n",
    "                ans.append(pai_num + 9 - 1)\n",
    "            elif pai[1] == \"s\":\n",
    "                ans.append(pai_num + 18 - 1)\n",
    "            elif pai[1] == \"z\":\n",
    "                ans.append(pai_num + 27 - 1)\n",
    "            else:\n",
    "                raise ValueError\n",
    "        return ans\n",
    "    \n",
    "    def add(self, pai_list):\n",
    "        for pai in self.convert(pai_list):\n",
    "            self.paishi[pai] += 1\n",
    "            self.n_pai += 1\n",
    "            \n",
    "    def check(self, pai_list):\n",
    "        tmp_paishi = self.paishi[:]\n",
    "        for pai in self.convert(pai_list):\n",
    "            tmp_paishi[pai] -= 1\n",
    "        for pai in tmp_paishi:\n",
    "            if pai < 0:\n",
    "                return False\n",
    "        return True\n",
    "    \n",
    "    def elim(self, pai_list):\n",
    "        tmp_paishi = self.paishi[:]\n",
    "        for pai in self.convert(pai_list):\n",
    "            tmp_paishi[pai] -= 1\n",
    "        for pai in tmp_paishi:\n",
    "            if pai < 0:\n",
    "                return False\n",
    "        self.paishi = tmp_paishi[:]\n",
    "        self.n_pai -= len(pai_list)\n",
    "        return True\n",
    "    \n",
    "    def sample(self):\n",
    "        for pai, n_pai in enumerate(self.paishi):\n",
    "            if n_pai > 0:\n",
    "                return pai_kinds[pai]\n",
    "        return -1\n",
    "        "
   ]
  },
  {
   "cell_type": "code",
   "execution_count": 44,
   "metadata": {},
   "outputs": [],
   "source": [
    "pai_kinds = [f\"{num}{kind}\"for kind in \"mps\" for num in range(1,10)] +  [f\"{num}z\"for num in range(1,8)]"
   ]
  },
  {
   "cell_type": "code",
   "execution_count": 45,
   "metadata": {},
   "outputs": [
    {
     "data": {
      "text/plain": [
       "['1m',\n",
       " '2m',\n",
       " '3m',\n",
       " '4m',\n",
       " '5m',\n",
       " '6m',\n",
       " '7m',\n",
       " '8m',\n",
       " '9m',\n",
       " '1p',\n",
       " '2p',\n",
       " '3p',\n",
       " '4p',\n",
       " '5p',\n",
       " '6p',\n",
       " '7p',\n",
       " '8p',\n",
       " '9p',\n",
       " '1s',\n",
       " '2s',\n",
       " '3s',\n",
       " '4s',\n",
       " '5s',\n",
       " '6s',\n",
       " '7s',\n",
       " '8s',\n",
       " '9s',\n",
       " '1z',\n",
       " '2z',\n",
       " '3z',\n",
       " '4z',\n",
       " '5z',\n",
       " '6z',\n",
       " '7z']"
      ]
     },
     "execution_count": 45,
     "metadata": {},
     "output_type": "execute_result"
    }
   ],
   "source": [
    "pai_kinds"
   ]
  },
  {
   "cell_type": "code",
   "execution_count": 113,
   "metadata": {},
   "outputs": [],
   "source": [
    "t = tehai([\"3s\",\"4s\",\"5s\", \"1z\"])"
   ]
  },
  {
   "cell_type": "code",
   "execution_count": 114,
   "metadata": {},
   "outputs": [],
   "source": [
    "import copy\n",
    "s = copy.copy(t)"
   ]
  },
  {
   "cell_type": "code",
   "execution_count": 115,
   "metadata": {},
   "outputs": [
    {
     "data": {
      "text/plain": [
       "(1459200038152, 1459200002184)"
      ]
     },
     "execution_count": 115,
     "metadata": {},
     "output_type": "execute_result"
    }
   ],
   "source": [
    "id(s),id(t)"
   ]
  },
  {
   "cell_type": "code",
   "execution_count": 116,
   "metadata": {},
   "outputs": [
    {
     "data": {
      "text/plain": [
       "True"
      ]
     },
     "execution_count": 116,
     "metadata": {},
     "output_type": "execute_result"
    }
   ],
   "source": [
    "t.elim([\"3s\"])"
   ]
  },
  {
   "cell_type": "code",
   "execution_count": 117,
   "metadata": {},
   "outputs": [
    {
     "data": {
      "text/plain": [
       "3"
      ]
     },
     "execution_count": 117,
     "metadata": {},
     "output_type": "execute_result"
    }
   ],
   "source": [
    "t.n_pai"
   ]
  },
  {
   "cell_type": "code",
   "execution_count": 263,
   "metadata": {},
   "outputs": [],
   "source": [
    "t = tehai([\"1s\",\"2s\",\"3s\",\"1s\",\"2s\",\"3s\",\"1s\",\"2s\",\"3s\",\"8m\",\"8m\",\"9m\",\"9m\"])"
   ]
  },
  {
   "cell_type": "code",
   "execution_count": 224,
   "metadata": {},
   "outputs": [],
   "source": [
    "def all_pattern(pai):\n",
    "    pattern = [[pai] * 2, [pai] * 3]\n",
    "    if pai[1] == \"z\":\n",
    "        return pattern\n",
    "    num = int(pai[0])\n",
    "    k = pai[1]\n",
    "    for shift in range(-2, 1):\n",
    "        if 1 <= num + shift <= 7:\n",
    "            pattern.append([f\"{num + shift}{k}\", f\"{num + shift + 1}{k}\", f\"{num + shift + 2}{k}\"])\n",
    "    return pattern\n",
    "        "
   ]
  },
  {
   "cell_type": "code",
   "execution_count": 225,
   "metadata": {},
   "outputs": [],
   "source": [
    "class pai_with_n_parts:\n",
    "    def __init__(self, pai_list):\n",
    "        self.tehai = tehai(pai_list)\n",
    "        assert tehai.n_pai % 3 != 1\n",
    "        if tehai.n_pai % 3 == 2:\n",
    "            self.n_janto = 1\n",
    "        else:\n",
    "            self.n_janto = 0\n",
    "        self.mentsu = tehai.n_pai % 3\n",
    "        \n",
    "            \n",
    "    "
   ]
  },
  {
   "cell_type": "code",
   "execution_count": 259,
   "metadata": {},
   "outputs": [],
   "source": [
    "\n",
    "\n",
    "def valid(tehai, n_mentsu, n_janto):\n",
    "#     print(tehai.paishi[:5],  n_mentsu, n_janto)\n",
    "    \n",
    "    if n_mentsu == 0 and n_janto == 0:\n",
    "#         print(\"tehai.n_pai\",tehai.n_pai)\n",
    "        if tehai.n_pai == 0:\n",
    "            return True, []\n",
    "        return False, []\n",
    "    if n_mentsu < 0 or n_janto < 0:\n",
    "        return False, []\n",
    "    ans = False\n",
    "    ans_list = []\n",
    "#     print(tehai.paishi[0])\n",
    "    for pat in all_pattern(tehai.sample()):\n",
    "#         print(pat)\n",
    "        if tehai.elim(pat):\n",
    "            if len(pat) == 2:\n",
    "                ans1, list1 = valid(copy.copy(tehai), n_mentsu, n_janto-1)\n",
    "            else:\n",
    "                ans1, list1 = valid(copy.copy(tehai), n_mentsu-1, n_janto)\n",
    "            if ans1:\n",
    "                ans = True\n",
    "                if len(list1) > 0:\n",
    "                    for item in list1:\n",
    "                        ans_list.append(item[:] + [pat[:]])\n",
    "                else:\n",
    "                    ans_list.append([pat[:]])\n",
    "            tehai.add(pat)\n",
    "#     print(ans_list)\n",
    "    return ans, ans_list\n",
    "        "
   ]
  },
  {
   "cell_type": "code",
   "execution_count": 255,
   "metadata": {},
   "outputs": [],
   "source": [
    "t = tehai([\"1m\",\"2m\",\"4m\",\"4m\"])"
   ]
  },
  {
   "cell_type": "code",
   "execution_count": 243,
   "metadata": {},
   "outputs": [
    {
     "name": "stdout",
     "output_type": "stream",
     "text": [
      "['1m', '1m']\n",
      "['1m', '1m', '1m']\n",
      "['1m', '2m', '3m']\n"
     ]
    },
    {
     "data": {
      "text/plain": [
       "(False, [])"
      ]
     },
     "execution_count": 243,
     "metadata": {},
     "output_type": "execute_result"
    }
   ],
   "source": [
    "s = copy.copy(t)\n",
    "s.add([\"2m\"])\n",
    "valid(s,1,1)"
   ]
  },
  {
   "cell_type": "code",
   "execution_count": 236,
   "metadata": {},
   "outputs": [
    {
     "data": {
      "text/plain": [
       "[1, 1, 0, 2, 0]"
      ]
     },
     "execution_count": 236,
     "metadata": {},
     "output_type": "execute_result"
    }
   ],
   "source": [
    "t.paishi[:5]"
   ]
  },
  {
   "cell_type": "code",
   "execution_count": 264,
   "metadata": {},
   "outputs": [
    {
     "name": "stdout",
     "output_type": "stream",
     "text": [
      "1m set()\n",
      "2m set()\n",
      "3m set()\n",
      "4m set()\n",
      "5m set()\n",
      "6m set()\n",
      "7m set()\n",
      "8m {(('1s', '2s', '3s'), ('1s', '2s', '3s'), ('1s', '2s', '3s'), ('8m', '8m', '8m'), ('9m', '9m')), (('1s', '1s', '1s'), ('2s', '2s', '2s'), ('3s', '3s', '3s'), ('8m', '8m', '8m'), ('9m', '9m'))}\n",
      "9m {(('1s', '2s', '3s'), ('1s', '2s', '3s'), ('1s', '2s', '3s'), ('8m', '8m'), ('9m', '9m', '9m')), (('1s', '1s', '1s'), ('2s', '2s', '2s'), ('3s', '3s', '3s'), ('8m', '8m'), ('9m', '9m', '9m'))}\n",
      "1p set()\n",
      "2p set()\n",
      "3p set()\n",
      "4p set()\n",
      "5p set()\n",
      "6p set()\n",
      "7p set()\n",
      "8p set()\n",
      "9p set()\n",
      "1s set()\n",
      "2s set()\n",
      "3s set()\n",
      "4s set()\n",
      "5s set()\n",
      "6s set()\n",
      "7s set()\n",
      "8s set()\n",
      "9s set()\n",
      "1z set()\n",
      "2z set()\n",
      "3z set()\n",
      "4z set()\n",
      "5z set()\n",
      "6z set()\n",
      "7z set()\n"
     ]
    }
   ],
   "source": [
    "for agaripai in pai_kinds:\n",
    "    t.add([agaripai])\n",
    "    ans,ans_list = valid(t,t.n_pai//3,int(t.n_pai%3==2))\n",
    "    for i in range(len(ans_list)):\n",
    "        ans_list[i].sort()\n",
    "        ans_list[i] = tuple([tuple(j) for j in ans_list[i]])\n",
    "        \n",
    "    ans_list = set(ans_list)\n",
    "    print(agaripai, ans_list)\n",
    "    t.elim([agaripai])\n",
    "    "
   ]
  },
  {
   "cell_type": "code",
   "execution_count": 188,
   "metadata": {},
   "outputs": [
    {
     "data": {
      "text/plain": [
       "[['5s', '5s'],\n",
       " ['5s', '5s', '5s'],\n",
       " ['3s', '4s', '5s'],\n",
       " ['4s', '5s', '6s'],\n",
       " ['5s', '6s', '7s']]"
      ]
     },
     "execution_count": 188,
     "metadata": {},
     "output_type": "execute_result"
    }
   ],
   "source": [
    "all_pattern(\"5s\")"
   ]
  },
  {
   "cell_type": "code",
   "execution_count": null,
   "metadata": {},
   "outputs": [],
   "source": []
  }
 ],
 "metadata": {
  "kernelspec": {
   "display_name": "Python 3",
   "language": "python",
   "name": "python3"
  },
  "language_info": {
   "codemirror_mode": {
    "name": "ipython",
    "version": 3
   },
   "file_extension": ".py",
   "mimetype": "text/x-python",
   "name": "python",
   "nbconvert_exporter": "python",
   "pygments_lexer": "ipython3",
   "version": "3.7.6"
  }
 },
 "nbformat": 4,
 "nbformat_minor": 4
}
